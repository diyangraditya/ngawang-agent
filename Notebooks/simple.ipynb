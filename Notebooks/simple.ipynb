{
 "cells": [
  {
   "metadata": {},
   "cell_type": "markdown",
   "source": "# FIRST TIMER AGENTIC AI",
   "id": "8a77807f92f26ee"
  },
  {
   "metadata": {},
   "cell_type": "markdown",
   "source": [
    "# LangSmith\n",
    "\n",
    "for model, chain, agent maintaining and inspection"
   ],
   "id": "c178e263e9780ce6"
  },
  {
   "metadata": {
    "ExecuteTime": {
     "end_time": "2025-02-12T06:11:38.568336Z",
     "start_time": "2025-02-12T06:11:34.559555Z"
    }
   },
   "cell_type": "code",
   "source": [
    "import getpass\n",
    "import os\n",
    "\n",
    "os.environ[\"LANGSMITH_TRACING\"] = \"true\"\n",
    "os.environ[\"LANGSMITH_API_KEY\"] = getpass.getpass()"
   ],
   "id": "7df9140457caed5e",
   "outputs": [],
   "execution_count": 1
  },
  {
   "metadata": {},
   "cell_type": "markdown",
   "source": [
    "## Tavily\n",
    "\n",
    "as a search engine tool"
   ],
   "id": "cef55d5e40ccade6"
  },
  {
   "metadata": {
    "ExecuteTime": {
     "end_time": "2025-02-12T06:11:51.790240Z",
     "start_time": "2025-02-12T06:11:49.135845Z"
    }
   },
   "cell_type": "code",
   "source": "os.environ[\"TAVILY_API_KEY\"] = getpass.getpass()",
   "id": "d3a0868067a895a4",
   "outputs": [],
   "execution_count": 2
  },
  {
   "metadata": {},
   "cell_type": "markdown",
   "source": [
    "## Defining tools\n",
    "\n",
    "We first need to create the tools we want to use. Our main tool of choice will be Tavily - a search engine. We have a built-in tool in LangChain to easily use Tavily search engine as tool.\n",
    "\n"
   ],
   "id": "87ebd487936ab4b7"
  },
  {
   "metadata": {
    "ExecuteTime": {
     "end_time": "2025-02-12T06:11:57.694941Z",
     "start_time": "2025-02-12T06:11:54.173293Z"
    }
   },
   "cell_type": "code",
   "source": [
    "from langchain_community.tools.tavily_search import TavilySearchResults\n",
    "\n",
    "search = TavilySearchResults(max_results=2)\n",
    "search_results = search.invoke(\"what is the weather in SF\")\n",
    "print(search_results)\n",
    "# If we want, we can create other tools.\n",
    "# Once we have all the tools we want, we can put them in a list that we will reference later.\n",
    "tools = [search]\n",
    "\n"
   ],
   "id": "bf92ad3b6e18ceff",
   "outputs": [
    {
     "name": "stderr",
     "output_type": "stream",
     "text": [
      "Failed to multipart ingest runs: langsmith.utils.LangSmithError: Failed to POST https://api.smith.langchain.com/runs/multipart in LangSmith API. HTTPError('403 Client Error: Forbidden for url: https://api.smith.langchain.com/runs/multipart', '{\"error\":\"Forbidden\"}\\n')\n"
     ]
    },
    {
     "name": "stdout",
     "output_type": "stream",
     "text": [
      "[{'url': 'https://www.weatherapi.com/', 'content': \"{'location': {'name': 'San Francisco', 'region': 'California', 'country': 'United States of America', 'lat': 37.775, 'lon': -122.4183, 'tz_id': 'America/Los_Angeles', 'localtime_epoch': 1739339778, 'localtime': '2025-02-11 21:56'}, 'current': {'last_updated_epoch': 1739339100, 'last_updated': '2025-02-11 21:45', 'temp_c': 8.9, 'temp_f': 48.0, 'is_day': 0, 'condition': {'text': 'Light rain', 'icon': '//cdn.weatherapi.com/weather/64x64/night/296.png', 'code': 1183}, 'wind_mph': 6.0, 'wind_kph': 9.7, 'wind_degree': 235, 'wind_dir': 'SW', 'pressure_mb': 1015.0, 'pressure_in': 29.98, 'precip_mm': 0.0, 'precip_in': 0.0, 'humidity': 73, 'cloud': 100, 'feelslike_c': 7.4, 'feelslike_f': 45.3, 'windchill_c': 6.9, 'windchill_f': 44.3, 'heatindex_c': 9.1, 'heatindex_f': 48.3, 'dewpoint_c': 6.2, 'dewpoint_f': 43.2, 'vis_km': 16.0, 'vis_miles': 9.0, 'uv': 0.0, 'gust_mph': 8.5, 'gust_kph': 13.6}}\"}, {'url': 'https://world-weather.info/forecast/usa/san_francisco/february-2025/', 'content': \"Weather in San Francisco in February 2025 (California) - Detailed Weather Forecast for a Month Weather World Weather in San Francisco Weather in San Francisco in February 2025 San Francisco Weather Forecast for February 2025, is based on previous years' statistical data. +59°+50° +59°+52° +59°+50° +61°+52° +59°+50° +61°+50° +61°+52° +63°+52° +61°+52° +61°+50° +61°+50° +61°+50° +59°+50° +59°+50° +61°+50° +61°+52° +59°+50° +59°+48° +57°+48° +59°+50° +59°+48° +59°+50° +57°+46° +61°+50° +61°+50° +59°+50° +59°+48° +59°+50° Extended weather forecast in San Francisco HourlyWeek10-Day14-Day30-DayYear Weather in large and nearby cities Weather in Washington, D.C.+41° Sacramento+55° Pleasanton+55° Redwood City+55° San Leandro+55° San Mateo+54° San Rafael+52° San Ramon+52° South San Francisco+54° Vallejo+50° Palo Alto+55° Pacifica+55° Berkeley+54° Castro Valley+55° Concord+52° Daly City+54° Noverd+52° Sign Hill+54° world's temperature today day day Temperature units\"}]\n"
     ]
    }
   ],
   "execution_count": 3
  },
  {
   "metadata": {
    "ExecuteTime": {
     "end_time": "2025-02-12T06:12:33.126379Z",
     "start_time": "2025-02-12T06:12:29.892638Z"
    }
   },
   "cell_type": "code",
   "source": [
    "## Using language models\n",
    "\n",
    "import getpass\n",
    "import os\n",
    "\n",
    "if not os.environ.get(\"GROQ_API_KEY\"):\n",
    "    os.environ[\"GROQ_API_KEY\"] = getpass.getpass(\"Enter API key for Groq: \")\n",
    "\n",
    "from langchain.chat_models import init_chat_model\n",
    "\n",
    "model = init_chat_model(\"llama3-8b-8192\", model_provider=\"groq\")"
   ],
   "id": "c5f85d4fe5099416",
   "outputs": [],
   "execution_count": 4
  },
  {
   "metadata": {},
   "cell_type": "markdown",
   "source": "you can call the language model by passing in a list of messages. By default, the response is a `content` string",
   "id": "1b0e39277df4b470"
  },
  {
   "metadata": {
    "ExecuteTime": {
     "end_time": "2025-02-12T06:12:57.435775Z",
     "start_time": "2025-02-12T06:12:56.603294Z"
    }
   },
   "cell_type": "code",
   "source": [
    "from langchain_core.messages import HumanMessage\n",
    "\n",
    "response = model.invoke([HumanMessage(content=\"10 times 10 minus 50\")])\n",
    "response.content"
   ],
   "id": "4974012d21ac6da9",
   "outputs": [
    {
     "data": {
      "text/plain": [
       "'To evaluate this expression, we need to follow the order of operations (PEMDAS):\\n\\n1. Multiply 10 and 10: 10 × 10 = 100\\n2. Subtract 50 from the result: 100 - 50 = 50\\n\\nSo the final answer is 50.'"
      ]
     },
     "execution_count": 5,
     "metadata": {},
     "output_type": "execute_result"
    }
   ],
   "execution_count": 5
  },
  {
   "metadata": {},
   "cell_type": "markdown",
   "source": "We can now see what it is like to enable this model to do tool calling. In order to enable that we use .bind_tools to give the language model knowledge of these tools",
   "id": "c790d1e2b5d9c9e5"
  },
  {
   "metadata": {
    "ExecuteTime": {
     "end_time": "2025-02-12T06:19:03.853935Z",
     "start_time": "2025-02-12T06:19:03.849945Z"
    }
   },
   "cell_type": "code",
   "source": "model_with_tools = model.bind_tools(tools)",
   "id": "d2f25ad09390dc9a",
   "outputs": [],
   "execution_count": 7
  },
  {
   "metadata": {},
   "cell_type": "markdown",
   "source": "We can now call the model. Let's first call it with a normal message, and see how it responds. We can look at both the content field as well as the tool_calls field.",
   "id": "e83742476ae419b9"
  },
  {
   "metadata": {
    "ExecuteTime": {
     "end_time": "2025-02-12T06:20:26.095315Z",
     "start_time": "2025-02-12T06:20:23.444373Z"
    }
   },
   "cell_type": "code",
   "source": [
    "response = model_with_tools.invoke([HumanMessage(content=\"give me a laptop recommendation\")])\n",
    "\n",
    "print(f\"ContentString: {response.content}\")\n",
    "print(f\"ToolCalls: {response.tool_calls}\")"
   ],
   "id": "4079a8bd42cd9eb9",
   "outputs": [
    {
     "name": "stdout",
     "output_type": "stream",
     "text": [
      "ContentString: The Dell XPS 13 is a great option for a laptop. It's a compact and lightweight device that's perfect for everyday use. It has a beautiful 4K touchscreen display, up to 16 hours of battery life, and a range of processor and storage options to choose from.\n",
      "\n",
      "The HP Envy x360 is another excellent choice. It's a convertible laptop that can be used in tablet mode, making it great for watching movies or browsing the web on the go. It has a 15.6-inch touchscreen display, up to 14 hours of battery life, and a range of processor and storage options.\n",
      "\n",
      "The Lenovo Yoga C940 is a great option for those who want a convertible laptop. It has a 14-inch touchscreen display, up to 15 hours of battery life, and a range of processor and storage options. It's also very lightweight and has a sleek design.\n",
      "\n",
      "These are just a few examples of the many great laptops available. When choosing a laptop, consider your budget, the type of tasks you'll be using it for, and the size and weight you're comfortable with.\n",
      "\n",
      "Here's a list of laptops that meet your criteria:\n",
      "\n",
      "[\n",
      "\t{\n",
      "\t\t\"name\": \"Dell XPS 13\",\n",
      "\t\t\"description\": \"A compact and lightweight laptop with a beautiful 4K touchscreen display.\",\n",
      "\t\t\"parameters\": {\n",
      "\t\t\t\"properties\": {\n",
      "\t\t\t\t\"price\": {\n",
      "\t\t\t\t\t\"description\": \"Price of the laptop\",\n",
      "\t\t\t\t\t\"type\": \"number\"\n",
      "\t\t\t\t},\n",
      "\t\t\t\t\"processor\": {\n",
      "\t\t\t\t\t\"description\": \"Processor of the laptop\",\n",
      "\t\t\t\t\t\"type\": \"string\"\n",
      "\t\t\t\t},\n",
      "\t\t\t\t\"storage\": {\n",
      "\t\t\t\t\t\"description\": \"Storage of the laptop\",\n",
      "\t\t\t\t\t\"type\": \"number\"\n",
      "\t\t\t\t},\n",
      "\t\t\t\t\"battery_life\": {\n",
      "\t\t\t\t\t\"description\": \"Battery life of the laptop\",\n",
      "\t\t\t\t\t\"type\": \"number\"\n",
      "\t\t\t\t}\n",
      "\t\t\t},\n",
      "\t\t\t\"required\": [\n",
      "\t\t\t\t\"price\",\n",
      "\t\t\t\t\"processor\",\n",
      "\t\t\t\t\"storage\",\n",
      "\t\t\t\t\"battery_life\"\n",
      "\t\t\t],\n",
      "\t\t\t\"type\": \"object\"\n",
      "\t\t}\n",
      "\t},\n",
      "\t{\n",
      "\t\t\"name\": \"HP Envy x360\",\n",
      "\t\t\"description\": \"A convertible laptop with a 15.6-inch touchscreen display.\",\n",
      "\t\t\"parameters\": {\n",
      "\t\t\t\"properties\": {\n",
      "\t\t\t\t\"price\": {\n",
      "\t\t\t\t\t\"description\": \"Price of the laptop\",\n",
      "\t\t\t\t\t\"type\": \"number\"\n",
      "\t\t\t\t},\n",
      "\t\t\t\t\"processor\": {\n",
      "\t\t\t\t\t\"description\": \"Processor of the laptop\",\n",
      "\t\t\t\t\t\"type\": \"string\"\n",
      "\t\t\t\t},\n",
      "\t\t\t\t\"storage\": {\n",
      "\t\t\t\t\t\"description\": \"Storage of the laptop\",\n",
      "\t\t\t\t\t\"type\": \"number\"\n",
      "\t\t\t\t},\n",
      "\t\t\t\t\"battery_life\": {\n",
      "\t\t\t\t\t\"description\": \"Battery life of the laptop\",\n",
      "\t\t\t\t\t\"type\": \"number\"\n",
      "\t\t\t\t}\n",
      "\t\t\t},\n",
      "\t\t\t\"required\": [\n",
      "\t\t\t\t\"price\",\n",
      "\t\t\t\t\"processor\",\n",
      "\t\t\t\t\"storage\",\n",
      "\t\t\t\t\"battery_life\"\n",
      "\t\t\t],\n",
      "\t\t\t\"type\": \"object\"\n",
      "\t\t}\n",
      "\t},\n",
      "\t{\n",
      "\t\t\"name\": \"Lenovo Yoga C940\",\n",
      "\t\t\"description\": \"A convertible laptop with a 14-inch touchscreen display.\",\n",
      "\t\t\"parameters\": {\n",
      "\t\t\t\"properties\": {\n",
      "\t\t\t\t\"price\": {\n",
      "\t\t\t\t\t\"description\": \"Price of the laptop\",\n",
      "\t\t\t\t\t\"type\": \"number\"\n",
      "\t\t\t\t},\n",
      "\t\t\t\t\"processor\": {\n",
      "\t\t\t\t\t\"description\": \"Processor of the laptop\",\n",
      "\t\t\t\t\t\"type\": \"string\"\n",
      "\t\t\t\t},\n",
      "\t\t\t\t\"storage\": {\n",
      "\t\t\t\t\t\"description\": \"Storage of the laptop\",\n",
      "\t\t\t\t\t\"type\": \"number\"\n",
      "\t\t\t\t},\n",
      "\t\t\t\t\"battery_life\": {\n",
      "\t\t\t\t\t\"description\": \"Battery life of the laptop\",\n",
      "\t\t\t\t\t\"type\": \"number\"\n",
      "\t\t\t\t}\n",
      "\t\t\t},\n",
      "\t\t\t\"required\": [\n",
      "\t\t\t\t\"price\",\n",
      "\t\t\t\t\"processor\",\n",
      "\t\t\t\t\"storage\",\n",
      "\t\t\t\t\"battery_life\"\n",
      "\t\t\t],\n",
      "\t\t\t\"type\": \"object\"\n",
      "\t\t}\n",
      "\t}\n",
      "]\n",
      "\n",
      "</tool-use>\n",
      "ToolCalls: []\n"
     ]
    }
   ],
   "execution_count": 13
  },
  {
   "metadata": {
    "ExecuteTime": {
     "end_time": "2025-02-12T06:19:33.991706Z",
     "start_time": "2025-02-12T06:19:32.619671Z"
    }
   },
   "cell_type": "code",
   "source": [
    "response = model_with_tools.invoke([HumanMessage(content=\"who is thomas alfa edinson\")])\n",
    "\n",
    "print(f\"ContentString: {response.content}\")\n",
    "print(f\"ToolCalls: {response.tool_calls}\")\n",
    "\n",
    "# sampe otw create agent"
   ],
   "id": "cc93d208ba7e9fe",
   "outputs": [
    {
     "name": "stdout",
     "output_type": "stream",
     "text": [
      "ContentString: \n",
      "ToolCalls: [{'name': 'tavily_search_results_json', 'args': {'query': 'Thomas Alfa Edison'}, 'id': 'call_qpxz', 'type': 'tool_call'}]\n"
     ]
    }
   ],
   "execution_count": 11
  },
  {
   "metadata": {},
   "cell_type": "markdown",
   "source": [
    "We can see that there's now no text content, but there is a tool call! It wants us to call the Tavily Search tool.\n",
    "\n",
    "This isn't calling that tool yet - it's just telling us to. In order to actually call it, we'll want to create our agent."
   ],
   "id": "f6b93bcef2acdbb9"
  },
  {
   "metadata": {},
   "cell_type": "markdown",
   "source": [
    "## Creating Agent\n",
    "\n",
    "Now that we have defined the tools and the LLM, we can create the agent. We will be using LangGraph to construct the agent. Currently, we are using a high level interface to construct the agent, but the nice thing about LangGraph is that this high-level interface is backed by a low-level, highly controllable API in case you want to modify the agent logic.\n",
    "\n",
    "Now, we can initialize the agent with the LLM and the tools.\n",
    "\n",
    "Note that we are passing in the model, not model_with_tools. That is because create_react_agent will call .bind_tools for us under the hood."
   ],
   "id": "85bd03f72ac47791"
  },
  {
   "metadata": {
    "ExecuteTime": {
     "end_time": "2025-02-12T02:03:39.119397Z",
     "start_time": "2025-02-12T02:03:39.068572Z"
    }
   },
   "cell_type": "code",
   "source": [
    "from langgraph.prebuilt import create_react_agent\n",
    "\n",
    "agent_executor = create_react_agent(model, tools)"
   ],
   "id": "d612326e1b96d4f6",
   "outputs": [],
   "execution_count": 10
  },
  {
   "metadata": {},
   "cell_type": "markdown",
   "source": [
    "## Run the agent\n",
    "\n",
    "We can now run the agent with a few queries! Note that for now, these are all stateless queries (it won't remember previous interactions). Note that the agent will return the final state at the end of the interaction (which includes any inputs, we will see later on how to get only the outputs).\n",
    "\n",
    "First up, let's see how it responds when there's no need to call a tool:"
   ],
   "id": "2e0f18360d593f39"
  },
  {
   "metadata": {
    "ExecuteTime": {
     "end_time": "2025-02-12T02:18:13.622960Z",
     "start_time": "2025-02-12T02:18:12.522639Z"
    }
   },
   "cell_type": "code",
   "source": [
    "response = agent_executor.invoke({\"messages\": [HumanMessage(content=\"hi!\")]})\n",
    "\n",
    "response[\"messages\"]"
   ],
   "id": "8fd9d3b4f08fd395",
   "outputs": [
    {
     "data": {
      "text/plain": [
       "[HumanMessage(content='hi!', additional_kwargs={}, response_metadata={}, id='0225b007-8e30-4465-b260-fa5a2fabe7be'),\n",
       " AIMessage(content='Hi!', additional_kwargs={}, response_metadata={'token_usage': {'completion_tokens': 3, 'prompt_tokens': 1902, 'total_tokens': 1905, 'completion_time': 0.0025, 'prompt_time': 0.249502936, 'queue_time': -0.296746792, 'total_time': 0.252002936}, 'model_name': 'llama3-8b-8192', 'system_fingerprint': 'fp_6a6771ae9c', 'finish_reason': 'stop', 'logprobs': None}, id='run-710c68f6-89cc-481f-a65c-e66e0bc7ee36-0', usage_metadata={'input_tokens': 1902, 'output_tokens': 3, 'total_tokens': 1905})]"
      ]
     },
     "execution_count": 12,
     "metadata": {},
     "output_type": "execute_result"
    }
   ],
   "execution_count": 12
  },
  {
   "metadata": {},
   "cell_type": "code",
   "outputs": [],
   "execution_count": null,
   "source": "from langchain_openai import ChatOpenAI",
   "id": "ac0d93cc9c75b7ce"
  }
 ],
 "metadata": {
  "kernelspec": {
   "display_name": "Python 3",
   "language": "python",
   "name": "python3"
  },
  "language_info": {
   "codemirror_mode": {
    "name": "ipython",
    "version": 2
   },
   "file_extension": ".py",
   "mimetype": "text/x-python",
   "name": "python",
   "nbconvert_exporter": "python",
   "pygments_lexer": "ipython2",
   "version": "2.7.6"
  }
 },
 "nbformat": 4,
 "nbformat_minor": 5
}
